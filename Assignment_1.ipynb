{
 "cells": [
  {
   "cell_type": "code",
   "execution_count": 1,
   "id": "5896be62",
   "metadata": {},
   "outputs": [
    {
     "name": "stdout",
     "output_type": "stream",
     "text": [
      "Welcome to Assignment-1\n"
     ]
    }
   ],
   "source": [
    "print(\"Welcome to Assignment-1\")"
   ]
  },
  {
   "cell_type": "code",
   "execution_count": 5,
   "id": "70d5e5d3",
   "metadata": {},
   "outputs": [
    {
     "name": "stdout",
     "output_type": "stream",
     "text": [
      "Num1:10\n",
      "Num2:30\n",
      "Num1= 10\n",
      "Num2= 30\n",
      "Add= 40\n"
     ]
    }
   ],
   "source": [
    "Num1=int(input(\"Num1:\"))\n",
    "\n",
    "Num2=int(input(\"Num2:\"))\n",
    "\n",
    "print(\"Num1=\",Num1)\n",
    "\n",
    "print(\"Num2=\",Num2)\n",
    "\n",
    "Add=Num1+Num2\n",
    "\n",
    "print(\"Add=\",Add)"
   ]
  },
  {
   "cell_type": "code",
   "execution_count": 6,
   "id": "a93b5162",
   "metadata": {},
   "outputs": [
    {
     "name": "stdout",
     "output_type": "stream",
     "text": [
      "Enter the BMI Index:48\n",
      "Extremly Obese\n"
     ]
    }
   ],
   "source": [
    "BMI=int(input(\"Enter the BMI Index:\"))\n",
    "if(BMI<18.5):\n",
    "    print(\"Underweight\")\n",
    "elif(BMI<24.9):\n",
    "    print(\"Normal\")\n",
    "elif(BMI<29.9):   \n",
    "    print(\"Overweight\")\n",
    "elif(BMI<34.9):\n",
    "    print(\"Obese\")\n",
    "else:\n",
    "    print(\"Extremly Obese\")"
   ]
  },
  {
   "cell_type": "code",
   "execution_count": null,
   "id": "b3dc3b38",
   "metadata": {},
   "outputs": [],
   "source": []
  }
 ],
 "metadata": {
  "kernelspec": {
   "display_name": "Python 3 (ipykernel)",
   "language": "python",
   "name": "python3"
  },
  "language_info": {
   "codemirror_mode": {
    "name": "ipython",
    "version": 3
   },
   "file_extension": ".py",
   "mimetype": "text/x-python",
   "name": "python",
   "nbconvert_exporter": "python",
   "pygments_lexer": "ipython3",
   "version": "3.11.5"
  }
 },
 "nbformat": 4,
 "nbformat_minor": 5
}
